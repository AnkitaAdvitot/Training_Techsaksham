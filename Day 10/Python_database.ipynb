{
 "cells": [
  {
   "cell_type": "code",
   "execution_count": 1,
   "id": "dd916d58-5a7c-42e7-a654-a5722ce4e4d5",
   "metadata": {},
   "outputs": [
    {
     "name": "stdout",
     "output_type": "stream",
     "text": [
      "Collecting mysql-connector.python\n",
      "  Downloading mysql_connector_python-9.2.0-cp313-cp313-win_amd64.whl.metadata (6.2 kB)\n",
      "Downloading mysql_connector_python-9.2.0-cp313-cp313-win_amd64.whl (16.1 MB)\n",
      "   ---------------------------------------- 0.0/16.1 MB ? eta -:--:--\n",
      "   ---------------------------------------- 0.0/16.1 MB ? eta -:--:--\n",
      "    --------------------------------------- 0.3/16.1 MB ? eta -:--:--\n",
      "    --------------------------------------- 0.3/16.1 MB ? eta -:--:--\n",
      "   - -------------------------------------- 0.5/16.1 MB 1.1 MB/s eta 0:00:15\n",
      "   - -------------------------------------- 0.8/16.1 MB 831.6 kB/s eta 0:00:19\n",
      "   -- ------------------------------------- 1.0/16.1 MB 997.5 kB/s eta 0:00:16\n",
      "   --- ------------------------------------ 1.6/16.1 MB 1.2 MB/s eta 0:00:12\n",
      "   ---- ----------------------------------- 1.8/16.1 MB 1.3 MB/s eta 0:00:11\n",
      "   ----- ---------------------------------- 2.1/16.1 MB 1.4 MB/s eta 0:00:11\n",
      "   ----- ---------------------------------- 2.4/16.1 MB 1.3 MB/s eta 0:00:11\n",
      "   ------ --------------------------------- 2.6/16.1 MB 1.3 MB/s eta 0:00:11\n",
      "   ------- -------------------------------- 2.9/16.1 MB 1.2 MB/s eta 0:00:11\n",
      "   ------- -------------------------------- 2.9/16.1 MB 1.2 MB/s eta 0:00:11\n",
      "   ------- -------------------------------- 3.1/16.1 MB 1.2 MB/s eta 0:00:12\n",
      "   -------- ------------------------------- 3.4/16.1 MB 1.2 MB/s eta 0:00:11\n",
      "   --------- ------------------------------ 3.7/16.1 MB 1.1 MB/s eta 0:00:11\n",
      "   --------- ------------------------------ 3.9/16.1 MB 1.1 MB/s eta 0:00:11\n",
      "   ---------- ----------------------------- 4.2/16.1 MB 1.1 MB/s eta 0:00:11\n",
      "   ---------- ----------------------------- 4.2/16.1 MB 1.1 MB/s eta 0:00:11\n",
      "   ----------- ---------------------------- 4.5/16.1 MB 1.1 MB/s eta 0:00:11\n",
      "   ------------ --------------------------- 5.0/16.1 MB 1.2 MB/s eta 0:00:10\n",
      "   ------------- -------------------------- 5.2/16.1 MB 1.2 MB/s eta 0:00:10\n",
      "   ------------- -------------------------- 5.5/16.1 MB 1.2 MB/s eta 0:00:09\n",
      "   -------------- ------------------------- 5.8/16.1 MB 1.2 MB/s eta 0:00:09\n",
      "   -------------- ------------------------- 6.0/16.1 MB 1.2 MB/s eta 0:00:09\n",
      "   ---------------- ----------------------- 6.6/16.1 MB 1.2 MB/s eta 0:00:08\n",
      "   ---------------- ----------------------- 6.8/16.1 MB 1.2 MB/s eta 0:00:08\n",
      "   ----------------- ---------------------- 7.1/16.1 MB 1.3 MB/s eta 0:00:08\n",
      "   ------------------ --------------------- 7.6/16.1 MB 1.3 MB/s eta 0:00:07\n",
      "   -------------------- ------------------- 8.1/16.1 MB 1.3 MB/s eta 0:00:07\n",
      "   --------------------- ------------------ 8.7/16.1 MB 1.4 MB/s eta 0:00:06\n",
      "   ---------------------- ----------------- 8.9/16.1 MB 1.4 MB/s eta 0:00:06\n",
      "   ---------------------- ----------------- 9.2/16.1 MB 1.3 MB/s eta 0:00:06\n",
      "   ------------------------ --------------- 9.7/16.1 MB 1.4 MB/s eta 0:00:05\n",
      "   ------------------------- -------------- 10.2/16.1 MB 1.4 MB/s eta 0:00:05\n",
      "   -------------------------- ------------- 10.5/16.1 MB 1.4 MB/s eta 0:00:04\n",
      "   --------------------------- ------------ 11.0/16.1 MB 1.5 MB/s eta 0:00:04\n",
      "   ----------------------------- ---------- 11.8/16.1 MB 1.5 MB/s eta 0:00:03\n",
      "   ----------------------------- ---------- 12.1/16.1 MB 1.5 MB/s eta 0:00:03\n",
      "   ------------------------------- -------- 12.6/16.1 MB 1.5 MB/s eta 0:00:03\n",
      "   -------------------------------- ------- 13.1/16.1 MB 1.5 MB/s eta 0:00:02\n",
      "   --------------------------------- ------ 13.4/16.1 MB 1.5 MB/s eta 0:00:02\n",
      "   ----------------------------------- ---- 14.2/16.1 MB 1.6 MB/s eta 0:00:02\n",
      "   ----------------------------------- ---- 14.4/16.1 MB 1.6 MB/s eta 0:00:02\n",
      "   ------------------------------------- -- 14.9/16.1 MB 1.6 MB/s eta 0:00:01\n",
      "   ------------------------------------- -- 15.2/16.1 MB 1.6 MB/s eta 0:00:01\n",
      "   -------------------------------------- - 15.5/16.1 MB 1.6 MB/s eta 0:00:01\n",
      "   ---------------------------------------  15.7/16.1 MB 1.6 MB/s eta 0:00:01\n",
      "   ---------------------------------------  16.0/16.1 MB 1.6 MB/s eta 0:00:01\n",
      "   ---------------------------------------- 16.1/16.1 MB 1.5 MB/s eta 0:00:00\n",
      "Installing collected packages: mysql-connector.python\n",
      "Successfully installed mysql-connector.python-9.2.0\n"
     ]
    },
    {
     "name": "stderr",
     "output_type": "stream",
     "text": [
      "\n",
      "[notice] A new release of pip is available: 24.3.1 -> 25.0.1\n",
      "[notice] To update, run: python.exe -m pip install --upgrade pip\n"
     ]
    }
   ],
   "source": [
    "!pip install mysql-connector.python"
   ]
  },
  {
   "cell_type": "code",
   "execution_count": 44,
   "id": "ee0039a6-7777-4347-b0dc-5270d983cc3b",
   "metadata": {},
   "outputs": [
    {
     "name": "stdout",
     "output_type": "stream",
     "text": [
      "<mysql.connector.connection_cext.CMySQLConnection object at 0x0000018F405CA5D0>\n"
     ]
    }
   ],
   "source": [
    "import mysql.connector\n",
    "\n",
    "db = mysql.connector.connect(\n",
    "    host = \"localhost\",\n",
    "    user = \"root\",\n",
    "    password = \"root\",\n",
    "    port = 3306\n",
    ")\n",
    "\n",
    "print(db)"
   ]
  },
  {
   "cell_type": "code",
   "execution_count": 45,
   "id": "8b284fa7-ca05-4e12-b0eb-d57eec8ae61e",
   "metadata": {},
   "outputs": [],
   "source": [
    "dbcursor = db.cursor()\n",
    "# execute database query\n",
    "dbcursor.execute(\"Create database if not exists booklist\") "
   ]
  },
  {
   "cell_type": "code",
   "execution_count": 46,
   "id": "d0405edf-5c2c-4d6c-bc0b-8168f53a3ec2",
   "metadata": {},
   "outputs": [],
   "source": [
    "dbcursor.execute(\"show databases\")"
   ]
  },
  {
   "cell_type": "code",
   "execution_count": 47,
   "id": "989594bf-d8e8-42c2-9a59-f2787ebe5a90",
   "metadata": {},
   "outputs": [
    {
     "name": "stdout",
     "output_type": "stream",
     "text": [
      "('a65',)\n",
      "('alloc8',)\n",
      "('alloc8_ajp_project',)\n",
      "('booklist',)\n",
      "('college',)\n",
      "('countries',)\n",
      "('customer_orders',)\n",
      "('gift_recommendation',)\n",
      "('giftdb',)\n",
      "('harshdb',)\n",
      "('hr',)\n",
      "('information_schema',)\n",
      "('mysql',)\n",
      "('performance_schema',)\n",
      "('sys',)\n",
      "('temp_schema',)\n",
      "('wheelwise',)\n",
      "('work-stream',)\n"
     ]
    }
   ],
   "source": [
    "for i in dbcursor:\n",
    "    print(i)"
   ]
  },
  {
   "cell_type": "code",
   "execution_count": 48,
   "id": "bbed0862-9d2e-4a43-a228-8e9728dbb33c",
   "metadata": {},
   "outputs": [],
   "source": [
    "db = mysql.connector.connect(\n",
    "    host = \"localhost\",\n",
    "    user = \"root\",\n",
    "    password = \"root\",\n",
    "    port = 3306,\n",
    "    database = 'booklist'\n",
    ")"
   ]
  },
  {
   "cell_type": "code",
   "execution_count": 49,
   "id": "4a211a76-7c7c-4916-8c9e-d8c17dfce88c",
   "metadata": {},
   "outputs": [
    {
     "name": "stdout",
     "output_type": "stream",
     "text": [
      "('bookdetail',)\n"
     ]
    }
   ],
   "source": [
    "dbcursor = db.cursor()\n",
    "dbcursor.execute(\"create table if not exists booklist.bookdetail \\\n",
    "(rating INT(20), book varchar(40), price decimal(16, 2))\")\n",
    "dbcursor.execute(\"show tables\")\n",
    "\n",
    "for i in dbcursor:\n",
    "    print(i)"
   ]
  },
  {
   "cell_type": "code",
   "execution_count": 50,
   "id": "cf02cf6d-e8a9-4877-83f5-5ab80445c838",
   "metadata": {},
   "outputs": [],
   "source": [
    "dbcursor.execute(\"insert into bookdetail values(5, 'abcd', 200)\")"
   ]
  },
  {
   "cell_type": "code",
   "execution_count": 51,
   "id": "c69d16eb-c8bc-44a9-a9f8-f20880dd2acc",
   "metadata": {},
   "outputs": [
    {
     "name": "stdout",
     "output_type": "stream",
     "text": [
      "(4, 'Power of subconscious mind', Decimal('99.00'))\n",
      "(3, 'Attitude is Everything', Decimal('40.00'))\n",
      "(4, 'Power of subconscious mind', Decimal('99.00'))\n",
      "(3, 'Attitude is Everything', Decimal('40.00'))\n",
      "(4, 'Power of subconscious mind', Decimal('99.00'))\n",
      "(3, 'Attitude is Everything', Decimal('40.00'))\n",
      "(4, 'Power of subconscious mind', Decimal('99.00'))\n",
      "(3, 'Attitude is Everything', Decimal('40.00'))\n",
      "(5, 'pqrs', Decimal('500.00'))\n",
      "(4, 'Power of subconscious mind', Decimal('99.00'))\n",
      "(5, 'Rich Dad Poor Dad', Decimal('100.00'))\n",
      "(3, 'Attitude is Everything', Decimal('40.00'))\n",
      "(5, 'abcd', Decimal('200.00'))\n"
     ]
    }
   ],
   "source": [
    "dbcursor.execute(\"select * from bookdetail\")\n",
    "for i in dbcursor:\n",
    "    print(i)"
   ]
  },
  {
   "cell_type": "code",
   "execution_count": 52,
   "id": "215934cc-8802-4131-9999-cfae2f8cbe93",
   "metadata": {},
   "outputs": [],
   "source": [
    "dbcursor.execute(\"commit\")"
   ]
  },
  {
   "cell_type": "code",
   "execution_count": 53,
   "id": "33d20e23-2492-4b24-8e65-d0c553b82344",
   "metadata": {},
   "outputs": [],
   "source": [
    "dbcursor.execute(\"delete from bookdetail where rating=5\")"
   ]
  },
  {
   "cell_type": "code",
   "execution_count": 54,
   "id": "f86f2319-0bc2-4667-95a6-f3210d7d129a",
   "metadata": {},
   "outputs": [],
   "source": [
    "dbcursor.execute(\"commit\")"
   ]
  },
  {
   "cell_type": "code",
   "execution_count": 55,
   "id": "dccad7a0-2abb-462e-9628-37a840ad5bca",
   "metadata": {},
   "outputs": [],
   "source": [
    "dbcursor.execute(\"insert into bookdetail values(5,'pqrs',1000)\")"
   ]
  },
  {
   "cell_type": "code",
   "execution_count": 56,
   "id": "002a5e22-cc24-4f9a-9c47-3bf5385c7cc0",
   "metadata": {},
   "outputs": [
    {
     "name": "stdout",
     "output_type": "stream",
     "text": [
      "(4, 'Power of subconscious mind', Decimal('99.00'))\n",
      "(3, 'Attitude is Everything', Decimal('40.00'))\n",
      "(4, 'Power of subconscious mind', Decimal('99.00'))\n",
      "(3, 'Attitude is Everything', Decimal('40.00'))\n",
      "(4, 'Power of subconscious mind', Decimal('99.00'))\n",
      "(3, 'Attitude is Everything', Decimal('40.00'))\n",
      "(4, 'Power of subconscious mind', Decimal('99.00'))\n",
      "(3, 'Attitude is Everything', Decimal('40.00'))\n",
      "(4, 'Power of subconscious mind', Decimal('99.00'))\n",
      "(3, 'Attitude is Everything', Decimal('40.00'))\n",
      "(5, 'pqrs', Decimal('1000.00'))\n"
     ]
    }
   ],
   "source": [
    "dbcursor.execute(\"select * from bookdetail\")\n",
    "for i in dbcursor:\n",
    "    print(i)"
   ]
  },
  {
   "cell_type": "code",
   "execution_count": 57,
   "id": "d157d6eb-f0cc-46c2-bb1d-e4b882bc82a0",
   "metadata": {},
   "outputs": [
    {
     "name": "stdout",
     "output_type": "stream",
     "text": [
      "(4, 'Power of subconscious mind', Decimal('99.00'))\n",
      "(3, 'Attitude is Everything', Decimal('40.00'))\n",
      "(4, 'Power of subconscious mind', Decimal('99.00'))\n",
      "(3, 'Attitude is Everything', Decimal('40.00'))\n",
      "(4, 'Power of subconscious mind', Decimal('99.00'))\n",
      "(3, 'Attitude is Everything', Decimal('40.00'))\n",
      "(4, 'Power of subconscious mind', Decimal('99.00'))\n",
      "(3, 'Attitude is Everything', Decimal('40.00'))\n",
      "(4, 'Power of subconscious mind', Decimal('99.00'))\n",
      "(3, 'Attitude is Everything', Decimal('40.00'))\n",
      "(5, 'pqrs', Decimal('500.00'))\n"
     ]
    }
   ],
   "source": [
    "dbcursor.execute(\"update bookdetail set price=500 where rating=5\")\n",
    "dbcursor.execute(\"select * from bookdetail\")\n",
    "for i in dbcursor:\n",
    "    print(i)"
   ]
  },
  {
   "cell_type": "code",
   "execution_count": 58,
   "id": "51f25d18-cfbd-4e38-95e2-9ffe6c2a3bb2",
   "metadata": {},
   "outputs": [],
   "source": [
    "form=\"insert into bookdetail(Rating,Book,price)values(%s,%s,%s)\"\n",
    "data=[(4,\"Power of subconscious mind\",99),(5,\"Rich Dad Poor Dad\",100),(3,\"Attitude is Everything\",40),]\n",
    "\n",
    "dbcursor.executemany(form,data)\n",
    "db.commit()\n"
   ]
  },
  {
   "cell_type": "code",
   "execution_count": 59,
   "id": "5fd12285-68a2-459c-b9df-f40cb0ad639e",
   "metadata": {},
   "outputs": [
    {
     "name": "stdout",
     "output_type": "stream",
     "text": [
      "('Power of subconscious mind',)\n",
      "('Attitude is Everything',)\n",
      "('Power of subconscious mind',)\n",
      "('Attitude is Everything',)\n",
      "('Power of subconscious mind',)\n",
      "('Attitude is Everything',)\n",
      "('Power of subconscious mind',)\n",
      "('Attitude is Everything',)\n",
      "('Power of subconscious mind',)\n",
      "('Attitude is Everything',)\n",
      "('pqrs',)\n",
      "('Power of subconscious mind',)\n",
      "('Rich Dad Poor Dad',)\n",
      "('Attitude is Everything',)\n"
     ]
    }
   ],
   "source": [
    "dbcursor.execute(\"Select book from bookdetail\")\n",
    "res=dbcursor.fetchall()\n",
    "for i in res:\n",
    "    print(i)"
   ]
  },
  {
   "cell_type": "code",
   "execution_count": 60,
   "id": "89f5682c-0501-48a1-b1e2-c47f41b57c20",
   "metadata": {},
   "outputs": [],
   "source": [
    "db.commit()"
   ]
  },
  {
   "cell_type": "code",
   "execution_count": null,
   "id": "442b259f-c266-42a8-ad89-d72857eff8f2",
   "metadata": {},
   "outputs": [],
   "source": []
  }
 ],
 "metadata": {
  "kernelspec": {
   "display_name": "Python 3 (ipykernel)",
   "language": "python",
   "name": "python3"
  },
  "language_info": {
   "codemirror_mode": {
    "name": "ipython",
    "version": 3
   },
   "file_extension": ".py",
   "mimetype": "text/x-python",
   "name": "python",
   "nbconvert_exporter": "python",
   "pygments_lexer": "ipython3",
   "version": "3.13.0"
  }
 },
 "nbformat": 4,
 "nbformat_minor": 5
}
