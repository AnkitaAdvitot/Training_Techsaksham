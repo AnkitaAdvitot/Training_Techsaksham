{
 "cells": [
  {
   "cell_type": "code",
   "execution_count": 1,
   "id": "8c88a3ce-96ad-4374-8f83-f89ee9f81e9a",
   "metadata": {},
   "outputs": [
    {
     "name": "stdin",
     "output_type": "stream",
     "text": [
      "Enter weight  50\n",
      "Enter height  20\n"
     ]
    },
    {
     "name": "stdout",
     "output_type": "stream",
     "text": [
      "underweight\n"
     ]
    }
   ],
   "source": [
    "wei=int(input(\"Enter weight \"))\n",
    "height=int(input(\"Enter height \"))\n",
    "bmi=wei/(height**2)\n",
    "if(bmi<18.5):\n",
    "    print(\"underweight\")\n",
    "elif(bmi>=18.5 and bmi<25):\n",
    "    print(\"normal weight\")\n",
    "elif(bmi>=25 and bmi<30):\n",
    "    print(\"slightly overweight\")\n",
    "elif(bmi>=30 and bmi<35):\n",
    "    print(\"obese\")\n",
    "else:\n",
    "    print(\"clinically obese\")"
   ]
  },
  {
   "cell_type": "code",
   "execution_count": null,
   "id": "e3947dea-6787-4145-a645-1aa9fe7956b3",
   "metadata": {},
   "outputs": [],
   "source": [
    "year=int(input(\"Enter year \"))\n",
    "if(year%4==0):\n",
    "    if(year%100!=0):\n",
    "        if(year%400==0):\n",
    "            print(\"Leap year\")\n",
    "        else:\n",
    "             print(\"not a Leap year\")\n",
    "    else:\n",
    "         print(\"Leap year\") \n",
    "else:\n",
    "     print(\"not a Leap year\")"
   ]
  },
  {
   "cell_type": "code",
   "execution_count": null,
   "id": "d901fc60-6c8d-43c3-a27f-a02335eec4a3",
   "metadata": {},
   "outputs": [],
   "source": []
  }
 ],
 "metadata": {
  "kernelspec": {
   "display_name": "Python 3 (ipykernel)",
   "language": "python",
   "name": "python3"
  },
  "language_info": {
   "codemirror_mode": {
    "name": "ipython",
    "version": 3
   },
   "file_extension": ".py",
   "mimetype": "text/x-python",
   "name": "python",
   "nbconvert_exporter": "python",
   "pygments_lexer": "ipython3",
   "version": "3.13.0"
  }
 },
 "nbformat": 4,
 "nbformat_minor": 5
}
