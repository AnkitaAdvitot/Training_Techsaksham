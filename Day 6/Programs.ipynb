{
 "cells": [
  {
   "cell_type": "code",
   "execution_count": 20,
   "id": "8c88a3ce-96ad-4374-8f83-f89ee9f81e9a",
   "metadata": {},
   "outputs": [
    {
     "name": "stdin",
     "output_type": "stream",
     "text": [
      "Enter weight  50\n",
      "Enter height  1\n"
     ]
    },
    {
     "name": "stdout",
     "output_type": "stream",
     "text": [
      "clinically obese\n"
     ]
    }
   ],
   "source": [
    "wei=int(input(\"Enter weight \"))\n",
    "height=float(input(\"Enter height \"))\n",
    "bmi=wei/(height**2)\n",
    "if(bmi<18.5):\n",
    "    print(\"underweight\")\n",
    "elif(bmi>=18.5 and bmi<25):\n",
    "    print(\"normal weight\")\n",
    "elif(bmi>=25 and bmi<30):\n",
    "    print(\"slightly overweight\")\n",
    "elif(bmi>=30 and bmi<35):\n",
    "    print(\"obese\")\n",
    "elif bmi>35:\n",
    "    print(\"clinically obese\")\n",
    "else:\n",
    "    print(\"Enter correct value\")"
   ]
  },
  {
   "cell_type": "code",
   "execution_count": 24,
   "id": "e3947dea-6787-4145-a645-1aa9fe7956b3",
   "metadata": {},
   "outputs": [
    {
     "name": "stdin",
     "output_type": "stream",
     "text": [
      "Enter year  2004\n"
     ]
    },
    {
     "name": "stdout",
     "output_type": "stream",
     "text": [
      "leap year\n"
     ]
    }
   ],
   "source": [
    "year=int(input(\"Enter year \"))\n",
    "# if(year%4==0):\n",
    "#     if(year%100==0):\n",
    "#         if(year%400==0):\n",
    "#             print(\"Leap year\")\n",
    "#         else:\n",
    "#              print(\"not a Leap year\")\n",
    "#     else:\n",
    "#          print(\"Leap year\") \n",
    "# else:\n",
    "#      print(\"not a Leap year\")\n",
    "if year%4==0 and (year%100!=0 or year%400==0):\n",
    "    print(\"leap year\")\n",
    "else:\n",
    "    print(\"not leap year\")"
   ]
  },
  {
   "cell_type": "code",
   "execution_count": 15,
   "id": "d901fc60-6c8d-43c3-a27f-a02335eec4a3",
   "metadata": {},
   "outputs": [
    {
     "name": "stdin",
     "output_type": "stream",
     "text": [
      "Enter height  234\n"
     ]
    },
    {
     "name": "stdout",
     "output_type": "stream",
     "text": [
      "can ride\n"
     ]
    },
    {
     "name": "stdin",
     "output_type": "stream",
     "text": [
      "Enter age  50\n",
      "Do you want photos Reply Yes or No no\n"
     ]
    },
    {
     "name": "stdout",
     "output_type": "stream",
     "text": [
      "The total bill is $0\n"
     ]
    }
   ],
   "source": [
    "height=int(input(\"Enter height \"))\n",
    "if height>120:\n",
    "    print(\"can ride\")\n",
    "    age=int(input(\"Enter age \"))\n",
    "    bill=0\n",
    "    if age>=18 and age<45:\n",
    "        bill+=12\n",
    "    elif age<12:\n",
    "        bill+=5\n",
    "    elif age>=12 and age<=18:\n",
    "        bill+=7\n",
    "    elif age>45 and age<=55:\n",
    "        bill+=0\n",
    "    else:\n",
    "        print(\"Enter correct age\")\n",
    "\n",
    "    s=input(\"Do you want photos Reply Yes or No\")\n",
    "    s.lower()\n",
    "    if(s==\"yes\"):\n",
    "        bill+=3\n",
    "\n",
    "    print(f\"The total bill is ${bill}\")\n",
    "else:\n",
    "    print(\"cant ride\")"
   ]
  },
  {
   "cell_type": "code",
   "execution_count": 38,
   "id": "427f3bb6-778a-4787-a66e-48ecfeeca3cf",
   "metadata": {
    "scrolled": true
   },
   "outputs": [
    {
     "name": "stdout",
     "output_type": "stream",
     "text": [
      "Place your order:\n",
      "-------------------------------------------\n",
      "1 - Small pizza : 15$\n",
      "2 - Medium pizza : 20$\n",
      "3 - Large pizza : 25$\n"
     ]
    },
    {
     "name": "stdin",
     "output_type": "stream",
     "text": [
      "Enter your choice to place order: 1\n"
     ]
    },
    {
     "name": "stdout",
     "output_type": "stream",
     "text": [
      "Want some toppings:\n",
      "1 - Pepperoni for small pizza: +2$\n",
      "2 - Pepperoni for medium or large pizza: +3$\n",
      "3 - Extra cheese : +1$\n",
      "4 - No\n"
     ]
    },
    {
     "name": "stdin",
     "output_type": "stream",
     "text": [
      "Enter your choice: 1\n",
      "Want to order more?? (y/n) y\n"
     ]
    },
    {
     "name": "stdout",
     "output_type": "stream",
     "text": [
      "-------------------------------------------\n",
      "1 - Small pizza : 15$\n",
      "2 - Medium pizza : 20$\n",
      "3 - Large pizza : 25$\n"
     ]
    },
    {
     "name": "stdin",
     "output_type": "stream",
     "text": [
      "Enter your choice to place order: 2\n"
     ]
    },
    {
     "name": "stdout",
     "output_type": "stream",
     "text": [
      "Want some toppings:\n",
      "1 - Pepperoni for small pizza: +2$\n",
      "2 - Pepperoni for medium or large pizza: +3$\n",
      "3 - Extra cheese : +1$\n",
      "4 - No\n"
     ]
    },
    {
     "name": "stdin",
     "output_type": "stream",
     "text": [
      "Enter your choice: 4\n",
      "Want to order more?? (y/n) n\n"
     ]
    },
    {
     "data": {
      "text/plain": [
       "37"
      ]
     },
     "execution_count": 38,
     "metadata": {},
     "output_type": "execute_result"
    }
   ],
   "source": [
    "def order_pizza():\n",
    "    print(\"Place your order:\")\n",
    "    bill = 0\n",
    "    while True:\n",
    "        print(\"-------------------------------------------\")\n",
    "        print(\"1 - Small pizza : 15$\")\n",
    "        print(\"2 - Medium pizza : 20$\")\n",
    "        print(\"3 - Large pizza : 25$\")\n",
    "        ch = int(input(\"Enter your choice to place order:\"))\n",
    "        bill += 15 if ch==1 else 20 if ch==2 else 25\n",
    "        ch = 0\n",
    "        print(\"Want some toppings:\")\n",
    "        print(\"1 - Pepperoni for small pizza: +2$\")\n",
    "        print(\"2 - Pepperoni for medium or large pizza: +3$\")\n",
    "        print(\"3 - Extra cheese : +1$\")\n",
    "        print(\"4 - No\")\n",
    "        ch = int(input(\"Enter your choice:\"))\n",
    "        bill += 2 if ch==1 else 3 if ch==2 else 1 if ch==3 else 0\n",
    "        ch = input(\"Want to order more?? (y/n)\")\n",
    "        if ch == 'n' or ch=='N':\n",
    "            break\n",
    "    return bill\n",
    "\n",
    "order_pizza()"
   ]
  },
  {
   "cell_type": "code",
   "execution_count": null,
   "id": "1f0acc2a-b7ec-4d65-b6f4-3ba7c406a83f",
   "metadata": {},
   "outputs": [],
   "source": []
  }
 ],
 "metadata": {
  "kernelspec": {
   "display_name": "Python 3 (ipykernel)",
   "language": "python",
   "name": "python3"
  },
  "language_info": {
   "codemirror_mode": {
    "name": "ipython",
    "version": 3
   },
   "file_extension": ".py",
   "mimetype": "text/x-python",
   "name": "python",
   "nbconvert_exporter": "python",
   "pygments_lexer": "ipython3",
   "version": "3.13.0"
  }
 },
 "nbformat": 4,
 "nbformat_minor": 5
}
