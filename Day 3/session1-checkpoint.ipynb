{
 "cells": [
  {
   "cell_type": "code",
   "execution_count": 1,
   "id": "7099cea9-b34d-4872-91f5-a332615ffcb5",
   "metadata": {},
   "outputs": [
    {
     "name": "stdout",
     "output_type": "stream",
     "text": [
      "Hello world\n"
     ]
    }
   ],
   "source": [
    "print(\"Hello world\")"
   ]
  },
  {
   "cell_type": "code",
   "execution_count": 3,
   "id": "8dc4d837-08fd-49e1-86aa-c7838cabed84",
   "metadata": {},
   "outputs": [
    {
     "data": {
      "text/plain": [
       "14"
      ]
     },
     "execution_count": 3,
     "metadata": {},
     "output_type": "execute_result"
    }
   ],
   "source": [
    "len(\"Ankita Advitot\")\n"
   ]
  },
  {
   "cell_type": "markdown",
   "id": "f0b5af3f-eaf6-4932-b548-ad73e5a98572",
   "metadata": {},
   "source": [
    "# Python In Built Functions"
   ]
  },
  {
   "cell_type": "code",
   "execution_count": 14,
   "id": "15e1e996-01f5-437a-ad8a-48009069eb71",
   "metadata": {},
   "outputs": [
    {
     "data": {
      "text/plain": [
       "6"
      ]
     },
     "execution_count": 14,
     "metadata": {},
     "output_type": "execute_result"
    }
   ],
   "source": [
    "len(\"Python\")"
   ]
  },
  {
   "cell_type": "code",
   "execution_count": 18,
   "id": "b02e37dd-b8dd-401d-913b-663f6a76a980",
   "metadata": {},
   "outputs": [
    {
     "data": {
      "text/plain": [
       "'p'"
      ]
     },
     "execution_count": 18,
     "metadata": {},
     "output_type": "execute_result"
    }
   ],
   "source": [
    "str=\"python\"\n",
    "str[0]"
   ]
  },
  {
   "cell_type": "code",
   "execution_count": 20,
   "id": "5e361397-24d9-4841-9f68-c8b091875bf2",
   "metadata": {},
   "outputs": [
    {
     "data": {
      "text/plain": [
       "'n'"
      ]
     },
     "execution_count": 20,
     "metadata": {},
     "output_type": "execute_result"
    }
   ],
   "source": [
    "str[-1]    #last character of string"
   ]
  },
  {
   "cell_type": "code",
   "execution_count": 22,
   "id": "ebdab98d-6bc9-48bc-a4f3-cb8cb56811f5",
   "metadata": {},
   "outputs": [
    {
     "data": {
      "text/plain": [
       "'ython'"
      ]
     },
     "execution_count": 22,
     "metadata": {},
     "output_type": "execute_result"
    }
   ],
   "source": [
    "str[1:]    #from first index to last"
   ]
  },
  {
   "cell_type": "code",
   "execution_count": 24,
   "id": "c96821ea-1655-4dd2-943a-c6fe9bea98cf",
   "metadata": {},
   "outputs": [
    {
     "data": {
      "text/plain": [
       "'python'"
      ]
     },
     "execution_count": 24,
     "metadata": {},
     "output_type": "execute_result"
    }
   ],
   "source": [
    "str[:]"
   ]
  },
  {
   "cell_type": "code",
   "execution_count": 26,
   "id": "25a38fa2-74bd-47b8-a6d9-15472955db4d",
   "metadata": {},
   "outputs": [
    {
     "data": {
      "text/plain": [
       "'python'"
      ]
     },
     "execution_count": 26,
     "metadata": {},
     "output_type": "execute_result"
    }
   ],
   "source": [
    "str[::]"
   ]
  },
  {
   "cell_type": "code",
   "execution_count": 28,
   "id": "3e271d59-34a5-47a3-8316-a0c9c93e2eee",
   "metadata": {},
   "outputs": [
    {
     "data": {
      "text/plain": [
       "'nohtyp'"
      ]
     },
     "execution_count": 28,
     "metadata": {},
     "output_type": "execute_result"
    }
   ],
   "source": [
    "str[::-1]   #reverse string"
   ]
  },
  {
   "cell_type": "code",
   "execution_count": 30,
   "id": "83f3071d-fab8-428c-9ae1-ff24afc29079",
   "metadata": {},
   "outputs": [
    {
     "data": {
      "text/plain": [
       "'pyth'"
      ]
     },
     "execution_count": 30,
     "metadata": {},
     "output_type": "execute_result"
    }
   ],
   "source": [
    "str[:4]"
   ]
  },
  {
   "cell_type": "code",
   "execution_count": 32,
   "id": "9f11a14b-36e2-4887-b8e9-9e7ddb043605",
   "metadata": {},
   "outputs": [
    {
     "data": {
      "text/plain": [
       "'on'"
      ]
     },
     "execution_count": 32,
     "metadata": {},
     "output_type": "execute_result"
    }
   ],
   "source": [
    "str[-2:]"
   ]
  },
  {
   "cell_type": "code",
   "execution_count": 34,
   "id": "affbb57a-064f-49d9-b4ac-b1703f949280",
   "metadata": {},
   "outputs": [
    {
     "data": {
      "text/plain": [
       "'pyth'"
      ]
     },
     "execution_count": 34,
     "metadata": {},
     "output_type": "execute_result"
    }
   ],
   "source": [
    "str[:-2]"
   ]
  },
  {
   "cell_type": "code",
   "execution_count": 44,
   "id": "0157627c-e8eb-40bb-9e2c-139284bbcf97",
   "metadata": {},
   "outputs": [],
   "source": [
    "str=str+\" is high level language\""
   ]
  },
  {
   "cell_type": "code",
   "execution_count": 46,
   "id": "6df13cf8-e267-4cd8-aa50-2191725567b8",
   "metadata": {},
   "outputs": [
    {
     "data": {
      "text/plain": [
       "'PYTHON IS HIGH LEVEL LANGUAGE'"
      ]
     },
     "execution_count": 46,
     "metadata": {},
     "output_type": "execute_result"
    }
   ],
   "source": [
    "str.upper()"
   ]
  },
  {
   "cell_type": "code",
   "execution_count": 48,
   "id": "6f4676f2-1f07-4c85-aab9-410577f6e24f",
   "metadata": {},
   "outputs": [
    {
     "data": {
      "text/plain": [
       "'python is high level language'"
      ]
     },
     "execution_count": 48,
     "metadata": {},
     "output_type": "execute_result"
    }
   ],
   "source": [
    "str.lower()"
   ]
  },
  {
   "cell_type": "markdown",
   "id": "a8b796af-52ae-49ba-a33c-43b40879858f",
   "metadata": {},
   "source": [
    "## split()"
   ]
  },
  {
   "cell_type": "code",
   "execution_count": 50,
   "id": "662d2abe-484a-4a8a-9d41-44623172ed7b",
   "metadata": {},
   "outputs": [
    {
     "data": {
      "text/plain": [
       "['python', 'is', 'high', 'level', 'language']"
      ]
     },
     "execution_count": 50,
     "metadata": {},
     "output_type": "execute_result"
    }
   ],
   "source": [
    "str.split()"
   ]
  },
  {
   "cell_type": "code",
   "execution_count": 52,
   "id": "ada04513-caf0-4d16-83d5-a32596f0ba7c",
   "metadata": {},
   "outputs": [
    {
     "data": {
      "text/plain": [
       "['abc', 'pqr', 'xzy']"
      ]
     },
     "execution_count": 52,
     "metadata": {},
     "output_type": "execute_result"
    }
   ],
   "source": [
    "str1=\"abc/pqr/xzy\"\n",
    "str1.split(\"/\")"
   ]
  },
  {
   "cell_type": "markdown",
   "id": "4a513b32-594c-4baf-9ea2-109497c0e5b8",
   "metadata": {},
   "source": [
    "## format()"
   ]
  },
  {
   "cell_type": "code",
   "execution_count": 57,
   "id": "46a64afc-d69e-4e98-86a7-7117c1997b2f",
   "metadata": {},
   "outputs": [
    {
     "name": "stdout",
     "output_type": "stream",
     "text": [
      "Enter name Ankita and age 20 \n"
     ]
    }
   ],
   "source": [
    "print(\"Enter name {} and age {} \".format(\"Ankita\",20)) #sequential access"
   ]
  },
  {
   "cell_type": "code",
   "execution_count": 61,
   "id": "eb18e004-d20b-484e-92eb-f42a2307fe42",
   "metadata": {},
   "outputs": [
    {
     "name": "stdout",
     "output_type": "stream",
     "text": [
      "The colours are black brown red\n"
     ]
    }
   ],
   "source": [
    "print('The colours are {2} {1} {0}'.format('red','brown','black'))     #access the index "
   ]
  },
  {
   "cell_type": "code",
   "execution_count": 67,
   "id": "8ba5859f-6d84-4b8c-bfb5-cb0b8ca2bb07",
   "metadata": {},
   "outputs": [
    {
     "name": "stdout",
     "output_type": "stream",
     "text": [
      "First object:10 , Second object:20, Third Object:ABCD\n"
     ]
    }
   ],
   "source": [
    "print(\"First object:{a} , Second object:{b}, Third Object:{c}\".format(a=10,b=20,c=\"ABCD\"))     #assign using keywords"
   ]
  },
  {
   "cell_type": "markdown",
   "id": "30b2f547-a321-4b2d-9d08-8e26324797b8",
   "metadata": {},
   "source": [
    "## strip()"
   ]
  },
  {
   "cell_type": "code",
   "execution_count": 72,
   "id": "d720f77d-72d3-48c1-a6e5-5b914ee2d1d9",
   "metadata": {},
   "outputs": [
    {
     "data": {
      "text/plain": [
       "'Hello world'"
      ]
     },
     "execution_count": 72,
     "metadata": {},
     "output_type": "execute_result"
    }
   ],
   "source": [
    "s=\"    Hello world   \"\n",
    "s.strip()       #removes whitespaces"
   ]
  },
  {
   "cell_type": "code",
   "execution_count": 105,
   "id": "8484baef-04d0-4cf3-83d7-679461778f8d",
   "metadata": {},
   "outputs": [
    {
     "data": {
      "text/plain": [
       "'    Abello world   '"
      ]
     },
     "execution_count": 105,
     "metadata": {},
     "output_type": "execute_result"
    }
   ],
   "source": [
    "s.replace('H','Ab')"
   ]
  },
  {
   "cell_type": "code",
   "execution_count": 170,
   "id": "53825a29-78a4-4287-a0e7-18418e7d04ff",
   "metadata": {},
   "outputs": [
    {
     "name": "stdout",
     "output_type": "stream",
     "text": [
      "The price of banana is 40\n"
     ]
    }
   ],
   "source": [
    "price=40\n",
    "print(f\"The price of banana is {price}\")"
   ]
  },
  {
   "cell_type": "markdown",
   "id": "2a1f4ad5-2d98-418f-8888-7e0d8d9d1f03",
   "metadata": {},
   "source": [
    "# 2.List"
   ]
  },
  {
   "cell_type": "code",
   "execution_count": 75,
   "id": "58fd6b58-cb7e-4fa8-9a8a-fc0312d61a47",
   "metadata": {},
   "outputs": [
    {
     "data": {
      "text/plain": [
       "[1, 2, 'Abc', 'c', 10.1]"
      ]
     },
     "execution_count": 75,
     "metadata": {},
     "output_type": "execute_result"
    }
   ],
   "source": [
    "list=[1,2,\"Abc\",'c',10.10]\n",
    "list"
   ]
  },
  {
   "cell_type": "code",
   "execution_count": 77,
   "id": "8ff3eb07-7479-4adc-99a3-10ec9aaef282",
   "metadata": {},
   "outputs": [
    {
     "data": {
      "text/plain": [
       "5"
      ]
     },
     "execution_count": 77,
     "metadata": {},
     "output_type": "execute_result"
    }
   ],
   "source": [
    "len(list)"
   ]
  },
  {
   "cell_type": "markdown",
   "id": "5ca6f82c-2427-409d-bd5e-ec2aa15d3eb8",
   "metadata": {},
   "source": [
    "#### append()"
   ]
  },
  {
   "cell_type": "code",
   "execution_count": 84,
   "id": "fdca5b3e-8d11-4661-9b86-944275736ff7",
   "metadata": {},
   "outputs": [
    {
     "data": {
      "text/plain": [
       "[1, 2, 'Abc', 'c', 10.1, 100, 100]"
      ]
     },
     "execution_count": 84,
     "metadata": {},
     "output_type": "execute_result"
    }
   ],
   "source": [
    "list.append(100)\n",
    "list"
   ]
  },
  {
   "cell_type": "markdown",
   "id": "5fd68b5e-12c4-479b-ae32-9281f3c673a7",
   "metadata": {},
   "source": [
    "#### indexing and slicing"
   ]
  },
  {
   "cell_type": "code",
   "execution_count": 95,
   "id": "2b07325a-bcf9-4360-8289-385f8409e774",
   "metadata": {},
   "outputs": [
    {
     "data": {
      "text/plain": [
       "1"
      ]
     },
     "execution_count": 95,
     "metadata": {},
     "output_type": "execute_result"
    }
   ],
   "source": [
    "list[0]\n"
   ]
  },
  {
   "cell_type": "code",
   "execution_count": 97,
   "id": "2645e2aa-b616-4477-95aa-34fb8d77e854",
   "metadata": {},
   "outputs": [
    {
     "data": {
      "text/plain": [
       "100"
      ]
     },
     "execution_count": 97,
     "metadata": {},
     "output_type": "execute_result"
    }
   ],
   "source": [
    "list[-1]"
   ]
  },
  {
   "cell_type": "code",
   "execution_count": 101,
   "id": "8fdd9c0f-4754-46a5-ada7-30689d2db170",
   "metadata": {},
   "outputs": [
    {
     "data": {
      "text/plain": [
       "[1, 2, 'Abc', 'c', 10.1, 100, 100]"
      ]
     },
     "execution_count": 101,
     "metadata": {},
     "output_type": "execute_result"
    }
   ],
   "source": [
    "list[:]"
   ]
  },
  {
   "cell_type": "code",
   "execution_count": 103,
   "id": "70d4a1f0-d922-434c-99c9-07c357e1d6e0",
   "metadata": {},
   "outputs": [
    {
     "data": {
      "text/plain": [
       "[100, 100, 10.1, 'c', 'Abc', 2, 1]"
      ]
     },
     "execution_count": 103,
     "metadata": {},
     "output_type": "execute_result"
    }
   ],
   "source": [
    "list[::-1]"
   ]
  },
  {
   "cell_type": "code",
   "execution_count": 99,
   "id": "f848ffac-ab26-47e6-9216-8d4952f5afae",
   "metadata": {},
   "outputs": [
    {
     "data": {
      "text/plain": [
       "[1, 2, 'Abc', 'c', 10.1, 100, 100, 'new item']"
      ]
     },
     "execution_count": 99,
     "metadata": {},
     "output_type": "execute_result"
    }
   ],
   "source": [
    "list+['new item']                #original list doesnt change"
   ]
  },
  {
   "cell_type": "code",
   "execution_count": 107,
   "id": "26e2fd35-823f-4567-bb52-87b27fcbe73f",
   "metadata": {},
   "outputs": [
    {
     "data": {
      "text/plain": [
       "[1, 2, 'Abc', 'c', 10.1, 100, 100, 'New item']"
      ]
     },
     "execution_count": 107,
     "metadata": {},
     "output_type": "execute_result"
    }
   ],
   "source": [
    "list=list+['New item']            #reassign\n",
    "list                             #original list gets affected"
   ]
  },
  {
   "cell_type": "code",
   "execution_count": 111,
   "id": "c00c25df-2cdf-4623-a5ee-9c0b0641fce1",
   "metadata": {},
   "outputs": [
    {
     "data": {
      "text/plain": [
       "[1, 2, 'Abc', 'c', 10.1, 100, 100, 'New item', 'abc', 'pqr']"
      ]
     },
     "execution_count": 111,
     "metadata": {},
     "output_type": "execute_result"
    }
   ],
   "source": [
    "list=list+['abc','pqr']\n",
    "list"
   ]
  },
  {
   "cell_type": "code",
   "execution_count": 113,
   "id": "8029d590-30a9-46fe-b813-ff9f32facce2",
   "metadata": {},
   "outputs": [
    {
     "data": {
      "text/plain": [
       "'pqr'"
      ]
     },
     "execution_count": 113,
     "metadata": {},
     "output_type": "execute_result"
    }
   ],
   "source": [
    "list.pop()                      #remove last element"
   ]
  },
  {
   "cell_type": "code",
   "execution_count": 115,
   "id": "7c71e789-442b-4423-82fa-3df7f3660400",
   "metadata": {},
   "outputs": [
    {
     "data": {
      "text/plain": [
       "1"
      ]
     },
     "execution_count": 115,
     "metadata": {},
     "output_type": "execute_result"
    }
   ],
   "source": [
    "list.pop(0)                     #removes first index"
   ]
  },
  {
   "cell_type": "markdown",
   "id": "8656ba27-12ee-497e-9a83-57e239b309b4",
   "metadata": {},
   "source": [
    "# 3.Dictionary"
   ]
  },
  {
   "cell_type": "code",
   "execution_count": 148,
   "id": "e9d7fe19-e8a5-47e8-b525-e6a660580796",
   "metadata": {},
   "outputs": [
    {
     "data": {
      "text/plain": [
       "{'key1': 'value1', 'key2': 'value2', 'key3': 'value3'}"
      ]
     },
     "execution_count": 148,
     "metadata": {},
     "output_type": "execute_result"
    }
   ],
   "source": [
    "Dict={'key1':\"value1\",'key2':'value2','key3':'value3'}\n",
    "Dict"
   ]
  },
  {
   "cell_type": "code",
   "execution_count": 150,
   "id": "55ac6cf1-31cd-4d9c-9099-de68239d8fdb",
   "metadata": {},
   "outputs": [
    {
     "data": {
      "text/plain": [
       "2"
      ]
     },
     "execution_count": 150,
     "metadata": {},
     "output_type": "execute_result"
    }
   ],
   "source": [
    "d1={'key1':'value1','key2':[1,2,3],'key3':'value3'}\n",
    "d1\n",
    "d1.get('key2')[1]"
   ]
  },
  {
   "cell_type": "code",
   "execution_count": 152,
   "id": "96ff7c9b-39a7-4382-aa94-b0087bc193a1",
   "metadata": {},
   "outputs": [
    {
     "data": {
      "text/plain": [
       "3"
      ]
     },
     "execution_count": 152,
     "metadata": {},
     "output_type": "execute_result"
    }
   ],
   "source": [
    "d1['key2'][-1]"
   ]
  },
  {
   "cell_type": "code",
   "execution_count": 154,
   "id": "ae5a32f7-eddd-4379-9a6e-c69c6a318dad",
   "metadata": {},
   "outputs": [
    {
     "data": {
      "text/plain": [
       "{'abc': 0, 'pqr': 0, 'aj': 0}"
      ]
     },
     "execution_count": 154,
     "metadata": {},
     "output_type": "execute_result"
    }
   ],
   "source": [
    "x={'abc','pqr','aj'}\n",
    "y=0\n",
    "dict.fromkeys(x,y)"
   ]
  },
  {
   "cell_type": "code",
   "execution_count": 156,
   "id": "21e39713-6519-4217-8c43-c3f3cd0d6bb6",
   "metadata": {},
   "outputs": [
    {
     "data": {
      "text/plain": [
       "'VALUE1'"
      ]
     },
     "execution_count": 156,
     "metadata": {},
     "output_type": "execute_result"
    }
   ],
   "source": [
    "d1['key1'].upper()"
   ]
  },
  {
   "cell_type": "code",
   "execution_count": 158,
   "id": "8310f7ef-1aa4-4f49-b3e7-1412e8ed3cc3",
   "metadata": {},
   "outputs": [
    {
     "data": {
      "text/plain": [
       "'1eulav'"
      ]
     },
     "execution_count": 158,
     "metadata": {},
     "output_type": "execute_result"
    }
   ],
   "source": [
    "d1.get('key1').lower()[::-1]"
   ]
  },
  {
   "cell_type": "code",
   "execution_count": 160,
   "id": "ceed1f50-cb27-43fb-85c1-227d930661a4",
   "metadata": {},
   "outputs": [
    {
     "data": {
      "text/plain": [
       "{'key1': 'Updated', 'key2': [1, 2, 3], 'key3': 'value3'}"
      ]
     },
     "execution_count": 160,
     "metadata": {},
     "output_type": "execute_result"
    }
   ],
   "source": [
    "d1['key1']=\"Updated\"\n",
    "d1"
   ]
  },
  {
   "cell_type": "code",
   "execution_count": 166,
   "id": "e708d673-e1d9-40bc-9dab-f01a0073e342",
   "metadata": {},
   "outputs": [
    {
     "data": {
      "text/plain": [
       "{'key1': 'Updated', 'key2': [1, 2, 3, 1233, 1233], 'key3': 'value3'}"
      ]
     },
     "execution_count": 166,
     "metadata": {},
     "output_type": "execute_result"
    }
   ],
   "source": [
    "d1['key2']=d1['key2']+[1233]\n",
    "d1"
   ]
  },
  {
   "cell_type": "code",
   "execution_count": 174,
   "id": "c49c8f30-9df5-4e1a-b923-de4f7b62ffca",
   "metadata": {},
   "outputs": [
    {
     "data": {
      "text/plain": [
       "{'key1': 'Updated', 'key2': [1, 2, 3, 1233, 1233], 'key3': 123234343}"
      ]
     },
     "execution_count": 174,
     "metadata": {},
     "output_type": "execute_result"
    }
   ],
   "source": [
    "d1['key3']=123234343\n",
    "d1"
   ]
  },
  {
   "cell_type": "code",
   "execution_count": 180,
   "id": "4d2119c8-f6f6-4a21-a78b-9b2829eaeec6",
   "metadata": {},
   "outputs": [
    {
     "data": {
      "text/plain": [
       "3"
      ]
     },
     "execution_count": 180,
     "metadata": {},
     "output_type": "execute_result"
    }
   ],
   "source": [
    "d1['key3']%10"
   ]
  },
  {
   "cell_type": "code",
   "execution_count": 182,
   "id": "171d5833-01cb-4104-ab42-11cd4c555b8e",
   "metadata": {},
   "outputs": [
    {
     "data": {
      "text/plain": [
       "dict_keys(['key1', 'key2', 'key3'])"
      ]
     },
     "execution_count": 182,
     "metadata": {},
     "output_type": "execute_result"
    }
   ],
   "source": [
    "d1.keys()"
   ]
  },
  {
   "cell_type": "code",
   "execution_count": 184,
   "id": "7d5ae38a-df66-4872-83d9-56241fd5f7d2",
   "metadata": {},
   "outputs": [
    {
     "data": {
      "text/plain": [
       "dict_values(['Updated', [1, 2, 3, 1233, 1233], 123234343])"
      ]
     },
     "execution_count": 184,
     "metadata": {},
     "output_type": "execute_result"
    }
   ],
   "source": [
    "d1.values()"
   ]
  },
  {
   "cell_type": "code",
   "execution_count": 186,
   "id": "33beaa25-8933-4bbf-82fc-240ee828aad7",
   "metadata": {},
   "outputs": [
    {
     "data": {
      "text/plain": [
       "dict_items([('key1', 'Updated'), ('key2', [1, 2, 3, 1233, 1233]), ('key3', 123234343)])"
      ]
     },
     "execution_count": 186,
     "metadata": {},
     "output_type": "execute_result"
    }
   ],
   "source": [
    "d1.items()"
   ]
  },
  {
   "cell_type": "code",
   "execution_count": 194,
   "id": "6c4ead64-a137-4a13-b139-2722ea9056b0",
   "metadata": {},
   "outputs": [
    {
     "data": {
      "text/plain": [
       "{'key1': 'Updated', 'key2': [1, 2, 3, 1233, 1233], 'key3': 123234343}"
      ]
     },
     "execution_count": 194,
     "metadata": {},
     "output_type": "execute_result"
    }
   ],
   "source": [
    "d2={}\n",
    "d2=d1.copy()\n",
    "d2"
   ]
  },
  {
   "cell_type": "markdown",
   "id": "04e5e528-e162-4a39-b469-7ff53405abe3",
   "metadata": {},
   "source": [
    "# Tuple"
   ]
  },
  {
   "cell_type": "code",
   "execution_count": 197,
   "id": "a9f581e5-a53c-40e3-a420-b168debf3382",
   "metadata": {},
   "outputs": [
    {
     "data": {
      "text/plain": [
       "(10, '39', 10.1)"
      ]
     },
     "execution_count": 197,
     "metadata": {},
     "output_type": "execute_result"
    }
   ],
   "source": [
    "tup=(10,'39',10.10)                  #mutable\n",
    "tup"
   ]
  },
  {
   "cell_type": "code",
   "execution_count": 199,
   "id": "9955a43d-a669-4a82-b472-067382c2c96e",
   "metadata": {},
   "outputs": [
    {
     "data": {
      "text/plain": [
       "10"
      ]
     },
     "execution_count": 199,
     "metadata": {},
     "output_type": "execute_result"
    }
   ],
   "source": [
    "tup[0]"
   ]
  },
  {
   "cell_type": "code",
   "execution_count": 201,
   "id": "f6f66d4b-d75c-43f1-8c80-2ffce3b117b0",
   "metadata": {},
   "outputs": [
    {
     "data": {
      "text/plain": [
       "3"
      ]
     },
     "execution_count": 201,
     "metadata": {},
     "output_type": "execute_result"
    }
   ],
   "source": [
    "len(tup)\n"
   ]
  },
  {
   "cell_type": "code",
   "execution_count": 219,
   "id": "a7ff2e2a-e52a-4e83-a610-784d5ce1bfc5",
   "metadata": {},
   "outputs": [
    {
     "data": {
      "text/plain": [
       "(10, '39')"
      ]
     },
     "execution_count": 219,
     "metadata": {},
     "output_type": "execute_result"
    }
   ],
   "source": [
    "tup[-3:-1]"
   ]
  },
  {
   "cell_type": "code",
   "execution_count": 223,
   "id": "5121c4c8-038a-4a6f-afdc-0414370a2ca6",
   "metadata": {},
   "outputs": [
    {
     "data": {
      "text/plain": [
       "(10, 122, 3423)"
      ]
     },
     "execution_count": 223,
     "metadata": {},
     "output_type": "execute_result"
    }
   ],
   "source": [
    "t=(10,122,3423)\n",
    "t"
   ]
  },
  {
   "cell_type": "code",
   "execution_count": 225,
   "id": "41471d07-53f2-4cfe-b6b5-5f4e5d62b2e6",
   "metadata": {},
   "outputs": [
    {
     "data": {
      "text/plain": [
       "10"
      ]
     },
     "execution_count": 225,
     "metadata": {},
     "output_type": "execute_result"
    }
   ],
   "source": [
    "min(t)"
   ]
  },
  {
   "cell_type": "code",
   "execution_count": 228,
   "id": "b7790316-c9be-46c7-aa2c-1d0477b94834",
   "metadata": {},
   "outputs": [
    {
     "data": {
      "text/plain": [
       "3423"
      ]
     },
     "execution_count": 228,
     "metadata": {},
     "output_type": "execute_result"
    }
   ],
   "source": [
    "max(t)"
   ]
  },
  {
   "cell_type": "code",
   "execution_count": 230,
   "id": "521fba3a-7f7a-4dda-b13a-07b0fd107f78",
   "metadata": {},
   "outputs": [
    {
     "data": {
      "text/plain": [
       "1"
      ]
     },
     "execution_count": 230,
     "metadata": {},
     "output_type": "execute_result"
    }
   ],
   "source": [
    "t.count(10)"
   ]
  },
  {
   "cell_type": "markdown",
   "id": "77b7d5bc-c903-45ad-bdf7-c6253834b5c9",
   "metadata": {},
   "source": [
    "# Set"
   ]
  },
  {
   "cell_type": "code",
   "execution_count": 248,
   "id": "82b2a091-6752-4a4b-86be-36cdf4f41e3a",
   "metadata": {},
   "outputs": [
    {
     "data": {
      "text/plain": [
       "{10, 20, 30}"
      ]
     },
     "execution_count": 248,
     "metadata": {},
     "output_type": "execute_result"
    }
   ],
   "source": [
    "s1={10,20,30}\n",
    "s1"
   ]
  },
  {
   "cell_type": "code",
   "execution_count": 254,
   "id": "fddbe264-7dc2-4579-912b-c3032ca2ec7b",
   "metadata": {},
   "outputs": [],
   "source": [
    "del set"
   ]
  },
  {
   "cell_type": "code",
   "execution_count": 264,
   "id": "0e58ec7a-54ab-403b-93db-c7769dbf87cf",
   "metadata": {},
   "outputs": [
    {
     "data": {
      "text/plain": [
       "set()"
      ]
     },
     "execution_count": 264,
     "metadata": {},
     "output_type": "execute_result"
    }
   ],
   "source": [
    "s=set()\n",
    "s"
   ]
  },
  {
   "cell_type": "code",
   "execution_count": 266,
   "id": "378ee99e-fabd-4a48-9507-0fc2dbab9154",
   "metadata": {},
   "outputs": [],
   "source": [
    "s.add(10)"
   ]
  },
  {
   "cell_type": "markdown",
   "id": "02e102b6-ca60-409c-b9b3-eb688cf90bb0",
   "metadata": {},
   "source": [
    "# If - Else "
   ]
  },
  {
   "cell_type": "code",
   "execution_count": 273,
   "id": "650c59b7-4d96-4ae7-95fe-6a46933571cf",
   "metadata": {},
   "outputs": [
    {
     "name": "stdout",
     "output_type": "stream",
     "text": [
      "Good\n"
     ]
    }
   ],
   "source": [
    "if True:\n",
    "    print(\"Good\")"
   ]
  },
  {
   "cell_type": "code",
   "execution_count": 275,
   "id": "2f3a8ac2-65ea-4eab-94c5-d8cf32295d45",
   "metadata": {},
   "outputs": [
    {
     "name": "stdout",
     "output_type": "stream",
     "text": [
      "it is false\n"
     ]
    }
   ],
   "source": [
    "x=False\n",
    "if x:\n",
    "    print(\"it is true\")\n",
    "else:\n",
    "    print(\"it is false\")\n"
   ]
  },
  {
   "cell_type": "code",
   "execution_count": 277,
   "id": "3152dae3-ac04-4e67-afcb-dd417b205840",
   "metadata": {},
   "outputs": [
    {
     "name": "stdout",
     "output_type": "stream",
     "text": [
      "welcome to pune\n"
     ]
    }
   ],
   "source": [
    "a='pune'\n",
    "if a=='pune':\n",
    "    print(\"welcome to pune\")\n",
    "elif a=='Mumbai':\n",
    "    print(\"Welcome to mumbai\")\n",
    "else:\n",
    "    print(\"Where are you!\")"
   ]
  },
  {
   "cell_type": "code",
   "execution_count": null,
   "id": "da824423-5527-4623-a930-d41c16847901",
   "metadata": {},
   "outputs": [],
   "source": []
  }
 ],
 "metadata": {
  "kernelspec": {
   "display_name": "Python [conda env:base] *",
   "language": "python",
   "name": "conda-base-py"
  },
  "language_info": {
   "codemirror_mode": {
    "name": "ipython",
    "version": 3
   },
   "file_extension": ".py",
   "mimetype": "text/x-python",
   "name": "python",
   "nbconvert_exporter": "python",
   "pygments_lexer": "ipython3",
   "version": "3.12.7"
  }
 },
 "nbformat": 4,
 "nbformat_minor": 5
}
