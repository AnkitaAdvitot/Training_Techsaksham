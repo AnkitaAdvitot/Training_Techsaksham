{
 "cells": [
  {
   "cell_type": "code",
   "execution_count": 1,
   "id": "5d0b39f2-29c8-4c77-99a4-6a77a43d05e5",
   "metadata": {},
   "outputs": [
    {
     "name": "stdout",
     "output_type": "stream",
     "text": [
      "Hello world!!!\n"
     ]
    }
   ],
   "source": [
    "class UnknownError:\n",
    "    pass\n",
    "def read_file_contents(file_name):\n",
    "    try:\n",
    "        f=open(file_name,'r')\n",
    "    except FileNotFoundError:\n",
    "        print(\"Given file does not exists\")\n",
    "    except PermissionError:\n",
    "        print(\"There is no permission for read file\")\n",
    "    except UnknownError:\n",
    "        print(\"UnknownError occured\")\n",
    "    else:\n",
    "        text=f.read()\n",
    "        print(text)\n",
    "    finally:\n",
    "        if not f.closed:\n",
    "            f.close()\n",
    "\n",
    "read_file_contents('Sample.txt')"
   ]
  },
  {
   "cell_type": "code",
   "execution_count": 14,
   "id": "2d44a8a0-dad3-4270-972a-ead10816192e",
   "metadata": {},
   "outputs": [
    {
     "name": "stdout",
     "output_type": "stream",
     "text": [
      "[20, 30]\n"
     ]
    }
   ],
   "source": [
    "l1=[10,10,20,30]\n",
    "# n=int(input(\"Enter element\"))\n",
    "# size=len(l1)\n",
    "# print(l1)\n",
    "# for i in l1:\n",
    "#     if i==n:\n",
    "#         l1.remove(i)\n",
    "#     print(l1)\n",
    "# print(l1)\n",
    "\n",
    "res=[i for i in l1 if i!=n]\n",
    "print(res)"
   ]
  },
  {
   "cell_type": "code",
   "execution_count": null,
   "id": "168c03b3-690c-44cb-908b-f766053d75fe",
   "metadata": {},
   "outputs": [],
   "source": []
  }
 ],
 "metadata": {
  "kernelspec": {
   "display_name": "Python 3 (ipykernel)",
   "language": "python",
   "name": "python3"
  },
  "language_info": {
   "codemirror_mode": {
    "name": "ipython",
    "version": 3
   },
   "file_extension": ".py",
   "mimetype": "text/x-python",
   "name": "python",
   "nbconvert_exporter": "python",
   "pygments_lexer": "ipython3",
   "version": "3.13.0"
  }
 },
 "nbformat": 4,
 "nbformat_minor": 5
}
