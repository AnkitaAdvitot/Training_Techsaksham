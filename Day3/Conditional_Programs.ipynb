{
 "cells": [
  {
   "cell_type": "markdown",
   "id": "e4e6699a-f620-45a1-93d9-4fa2b665aa64",
   "metadata": {},
   "source": [
    "# Multiple Branches"
   ]
  },
  {
   "cell_type": "markdown",
   "id": "bd87f594-408f-4fca-ace2-cf7f77de6322",
   "metadata": {},
   "source": [
    "### Greatest among three no.s"
   ]
  },
  {
   "cell_type": "code",
   "execution_count": 7,
   "id": "6a8c948a-9df5-4cdf-9d85-380b7d113454",
   "metadata": {},
   "outputs": [
    {
     "name": "stdout",
     "output_type": "stream",
     "text": [
      "Enter first no  483947\n",
      "Enter second no  22\n",
      "Enter third no  43\n"
     ]
    },
    {
     "name": "stdout",
     "output_type": "stream",
     "text": [
      "483947 is greater than 22 and 43\n"
     ]
    }
   ],
   "source": [
    "a=input(\"Enter first no \")\n",
    "b=input(\"Enter second no \")\n",
    "c=input(\"Enter third no \")\n",
    "if a>b and a>c:\n",
    "    print(f\"{a} is greater than {b} and {c}\")\n",
    "elif b>c:\n",
    "    print(f\"{b} is greater than {a} and {c}\")\n",
    "else:\n",
    "    print(f\"{c} is greater than {a} and {b}\")\n",
    "    \n"
   ]
  },
  {
   "cell_type": "markdown",
   "id": "0d5cb7fa-51a2-4741-8d6f-aac223c57a13",
   "metadata": {},
   "source": [
    "### Calculate total bill on given units"
   ]
  },
  {
   "cell_type": "code",
   "execution_count": 42,
   "id": "abae1adf-b4a3-43e6-a4f1-59363d8567b2",
   "metadata": {},
   "outputs": [
    {
     "name": "stdout",
     "output_type": "stream",
     "text": [
      "Enter no. of units  3550\n"
     ]
    },
    {
     "name": "stdout",
     "output_type": "stream",
     "text": [
      "total bill is 45700\n"
     ]
    }
   ],
   "source": [
    "units=int(input(\"Enter no. of units \"))\n",
    "total_sum=0\n",
    "if(units<=200):\n",
    "    total_sum=0;\n",
    "elif(units>200 and units<=300):\n",
    "    rem=units-200\n",
    "    total_sum+=(rem*8)\n",
    "elif(units>300 and units<=500):\n",
    "    rem=units-300\n",
    "    total_sum+=((100*8)+rem*11)\n",
    "elif(units>500):\n",
    "    rem=units-500\n",
    "    total_sum+=((100*8)+(200*11)+(rem*14))\n",
    "print(\"total bill is\",total_sum)"
   ]
  },
  {
   "cell_type": "markdown",
   "id": "d0dd9f20-b85c-446f-82e1-fb55c94e8597",
   "metadata": {},
   "source": [
    "### Calculate income tax"
   ]
  },
  {
   "cell_type": "code",
   "execution_count": 36,
   "id": "ad480cd2-acd2-4e16-b547-4e16c65ba5c2",
   "metadata": {},
   "outputs": [
    {
     "name": "stdout",
     "output_type": "stream",
     "text": [
      "Enter income 4500000\n",
      "Enter savings 150000\n"
     ]
    },
    {
     "name": "stdout",
     "output_type": "stream",
     "text": [
      "Payable Amount is  985000.0\n"
     ]
    }
   ],
   "source": [
    "total=int(input(\"Enter income\"))\n",
    "sav=int(input(\"Enter savings\"))\n",
    "rem=0\n",
    "pay=0\n",
    "if(sav>200000):\n",
    "    rem=total-200000\n",
    "else:\n",
    "    rem=total-sav\n",
    "    \n",
    "if(rem>=1000000 and rem<1200000):\n",
    "    pay=rem*0.1\n",
    "elif(rem>=1200000 and rem<3000000):\n",
    "    r=rem-1000000\n",
    "    pay=1000000*0.1+r*0.2\n",
    "elif(rem>=3000000):\n",
    "    r=rem-2200000\n",
    "    pay=1000000*0.1+1200000*0.2+r*0.3\n",
    "\n",
    "print(\"Payable Amount is \",pay)"
   ]
  },
  {
   "cell_type": "markdown",
   "id": "17143ded-26b9-40b0-b2d1-3a930fe18efa",
   "metadata": {},
   "source": [
    "### Calculate profit on FD amount"
   ]
  },
  {
   "cell_type": "code",
   "execution_count": 47,
   "id": "a5ae4a25-ab5f-4218-b744-d8059cb82582",
   "metadata": {},
   "outputs": [
    {
     "name": "stdout",
     "output_type": "stream",
     "text": [
      "Enter FD amount 6500000\n"
     ]
    },
    {
     "name": "stdout",
     "output_type": "stream",
     "text": [
      "Profit on given 6500000 is 1045000.0\n"
     ]
    }
   ],
   "source": [
    "amt=int(input(\"Enter FD amount\"))\n",
    "profit=0\n",
    "if(amt<=1000000):\n",
    "    profit=1000000*0.1\n",
    "elif(amt>1000000 and amt<=1500000):\n",
    "    profit=((1000000*0.1)+((amt-1000000)*0.15))\n",
    "elif(amt>1500000):\n",
    "    profit=((1000000*0.1)+(1500000*0.15)+((amt-2500000)*0.18))\n",
    "\n",
    "print(f\"Profit on given {amt} is\",profit)"
   ]
  }
 ],
 "metadata": {
  "kernelspec": {
   "display_name": "Python [conda env:base] *",
   "language": "python",
   "name": "conda-base-py"
  },
  "language_info": {
   "codemirror_mode": {
    "name": "ipython",
    "version": 3
   },
   "file_extension": ".py",
   "mimetype": "text/x-python",
   "name": "python",
   "nbconvert_exporter": "python",
   "pygments_lexer": "ipython3",
   "version": "3.12.7"
  }
 },
 "nbformat": 4,
 "nbformat_minor": 5
}
