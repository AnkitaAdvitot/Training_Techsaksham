{
 "cells": [
  {
   "cell_type": "markdown",
   "id": "22be2b1d-9ca2-4753-8404-34b92ce53c62",
   "metadata": {},
   "source": [
    "### Calcultor using two number"
   ]
  },
  {
   "cell_type": "code",
   "execution_count": 9,
   "id": "eeb5239e-4e33-4211-99f4-b65ba7b1b527",
   "metadata": {},
   "outputs": [
    {
     "name": "stdout",
     "output_type": "stream",
     "text": [
      "1.Addition\n",
      "2.Substraction\n",
      "3.Multiplication\n",
      "4.Division\n"
     ]
    },
    {
     "name": "stdin",
     "output_type": "stream",
     "text": [
      "Enter your choice 1\n",
      "Enter first number  1\n",
      "Enter second number  2\n"
     ]
    },
    {
     "name": "stdout",
     "output_type": "stream",
     "text": [
      "Addition is  3\n"
     ]
    }
   ],
   "source": [
    "def add(n1,n2):\n",
    "    return n1+n2\n",
    "def sub(n1,n2):\n",
    "    return n1-n2\n",
    "def mul(n1,n2):\n",
    "    return n1*n2\n",
    "def div(n1,n2):\n",
    "    return n1/n2\n",
    "print(\"1.Addition\")\n",
    "print(\"2.Substraction\")\n",
    "print(\"3.Multiplication\")\n",
    "print(\"4.Division\")\n",
    "ch=int(input(\"Enter your choice\"))\n",
    "n1=int(input(\"Enter first number \"))\n",
    "n2=int(input(\"Enter second number \"))\n",
    "if(ch==1):\n",
    "    res=add(n1,n2)\n",
    "    print(\"Addition is \",res)\n",
    "elif(ch==2):\n",
    "    res=sub(n1,n2)\n",
    "    print(\"Addition is \",res)\n",
    "\n",
    "elif(ch==3):\n",
    "    res=mul(n1,n2)\n",
    "    print(\"Addition is \",res)\n",
    "elif(ch==4):\n",
    "    res=div(n1,n2)\n",
    "    print(\"Addition is \",res)\n",
    "else:\n",
    "    print(\"Enter Valid choice\")\n",
    "\n"
   ]
  },
  {
   "cell_type": "markdown",
   "id": "95ad7b87-e6b4-418d-9869-3adc5de6fda1",
   "metadata": {},
   "source": [
    "### Calcultor using multiple numbers"
   ]
  },
  {
   "cell_type": "code",
   "execution_count": 21,
   "id": "0c2b0764-5626-4690-a5bc-56ad1b304f7b",
   "metadata": {},
   "outputs": [
    {
     "name": "stdout",
     "output_type": "stream",
     "text": [
      "1.Addition\n",
      "2.Substraction\n",
      "3.Multiplication\n",
      "4.Division\n"
     ]
    },
    {
     "name": "stdin",
     "output_type": "stream",
     "text": [
      "Enter your choice 2\n"
     ]
    },
    {
     "name": "stdout",
     "output_type": "stream",
     "text": [
      "Substraction is  5\n"
     ]
    }
   ],
   "source": [
    "def add(*n1):\n",
    "    return sum(n1)\n",
    "def sub(*n1):\n",
    "    res=n1[0]\n",
    "    for i in range(1,len(n1)):\n",
    "        res-=n1[i]\n",
    "    return res\n",
    "def mul(*n1):\n",
    "    res=1\n",
    "    for i in n1:\n",
    "        res*=i\n",
    "    return res\n",
    "def div(*n1):\n",
    "    res=n1[0]\n",
    "    for i in n1:\n",
    "        res/=i\n",
    "    return res\n",
    "print(\"1.Addition\")\n",
    "print(\"2.Substraction\")\n",
    "print(\"3.Multiplication\")\n",
    "print(\"4.Division\")\n",
    "ch=int(input(\"Enter your choice\"))\n",
    "if(ch==1):\n",
    "    res=add(10,20,30)\n",
    "    print(\"Addition is \",res)\n",
    "elif(ch==2):\n",
    "    res=sub(20,10,5)\n",
    "    print(\"Substraction is \",res)\n",
    "elif(ch==3):\n",
    "    res=mul(10,20,30)\n",
    "    print(\"Multiplication is \",res)\n",
    "elif(ch==4):\n",
    "    res=div(20,10)\n",
    "    print(\"Division is \",res)\n",
    "else:\n",
    "    print(\"Enter Valid choice\")\n",
    "\n"
   ]
  },
  {
   "cell_type": "markdown",
   "id": "3d156488-a994-4b90-a849-d7016a5799c9",
   "metadata": {},
   "source": [
    "# Random Module"
   ]
  },
  {
   "cell_type": "markdown",
   "id": "db8c2d5d-be83-48d5-b0ef-4e7d2eeb2f5e",
   "metadata": {},
   "source": [
    "### Who will pay"
   ]
  },
  {
   "cell_type": "code",
   "execution_count": 24,
   "id": "5f60ceb2-ac40-45b7-afa2-0213cb0f3c85",
   "metadata": {},
   "outputs": [
    {
     "name": "stdin",
     "output_type": "stream",
     "text": [
      "Enter your friends name  nidhi priyanka aditi\n"
     ]
    },
    {
     "name": "stdout",
     "output_type": "stream",
     "text": [
      "aditi have to pay the bill\n"
     ]
    }
   ],
   "source": [
    "import random as rand\n",
    "def randomName(s):\n",
    "    l1=s.split(\" \")\n",
    "    n=len(l1)\n",
    "    res=rand.randint(0,n-1)\n",
    "    return l1[res]\n",
    "s=input(\"Enter your friends name \")\n",
    "name=randomName(s)\n",
    "print(f\"{name} have to pay the bill\")"
   ]
  },
  {
   "cell_type": "markdown",
   "id": "debdfc9e-4754-4e7b-9a47-b167c0a8e13a",
   "metadata": {},
   "source": [
    "### Guess the number"
   ]
  },
  {
   "cell_type": "code",
   "execution_count": 40,
   "id": "b320b9c0-a34c-4a84-842c-1d153c04cfde",
   "metadata": {
    "scrolled": true
   },
   "outputs": [
    {
     "name": "stdin",
     "output_type": "stream",
     "text": [
      "Guess the number between 1 to 10 5\n"
     ]
    },
    {
     "name": "stdout",
     "output_type": "stream",
     "text": [
      "You are far away\n",
      "Oops!! you are wrong \n",
      "You have left with 4 attempts\n"
     ]
    },
    {
     "name": "stdin",
     "output_type": "stream",
     "text": [
      "Guess the number between 1 to 10 1\n"
     ]
    },
    {
     "name": "stdout",
     "output_type": "stream",
     "text": [
      "You are far away\n",
      "Oops!! you are wrong \n",
      "You have left with 3 attempts\n"
     ]
    },
    {
     "name": "stdin",
     "output_type": "stream",
     "text": [
      "Guess the number between 1 to 10 10\n"
     ]
    },
    {
     "name": "stdout",
     "output_type": "stream",
     "text": [
      "You are closer\n",
      "Oops!! you are wrong \n",
      "You have left with 2 attempts\n"
     ]
    },
    {
     "name": "stdin",
     "output_type": "stream",
     "text": [
      "Guess the number between 1 to 10 9\n"
     ]
    },
    {
     "name": "stdout",
     "output_type": "stream",
     "text": [
      "Awesome!! your guess is correct\n"
     ]
    }
   ],
   "source": [
    "def guess(num,res):\n",
    "        if num==res:\n",
    "            return True\n",
    "        else:\n",
    "            if(num-2<=res<=num+2):\n",
    "                print(\"You are closer🤩🤩\")\n",
    "            else:\n",
    "                print(\"You are far away\")\n",
    "            return False\n",
    "\n",
    "def play():\n",
    "    count=5\n",
    "    res=rand.randint(1,10)\n",
    "    for i in range(0,count):\n",
    "        num=int(input(\"Guess the number between 1 to 10\"))\n",
    "        if(guess(num,res)):\n",
    "            print(\"😁😁Awesome!! your guess is correct\")\n",
    "            break\n",
    "        else:\n",
    "            print(\"😓Oops!! you are wrong \")\n",
    "            count-=1\n",
    "            print(f\"You have left with {count} attempts\")\n",
    "play()\n",
    "        "
   ]
  },
  {
   "cell_type": "code",
   "execution_count": null,
   "id": "c52db179-1534-4f36-94f3-2ee060984da9",
   "metadata": {},
   "outputs": [],
   "source": []
  }
 ],
 "metadata": {
  "kernelspec": {
   "display_name": "Python 3 (ipykernel)",
   "language": "python",
   "name": "python3"
  },
  "language_info": {
   "codemirror_mode": {
    "name": "ipython",
    "version": 3
   },
   "file_extension": ".py",
   "mimetype": "text/x-python",
   "name": "python",
   "nbconvert_exporter": "python",
   "pygments_lexer": "ipython3",
   "version": "3.13.0"
  }
 },
 "nbformat": 4,
 "nbformat_minor": 5
}
